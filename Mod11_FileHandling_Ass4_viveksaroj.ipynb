{
  "nbformat": 4,
  "nbformat_minor": 0,
  "metadata": {
    "colab": {
      "provenance": []
    },
    "kernelspec": {
      "name": "python3",
      "display_name": "Python 3"
    },
    "language_info": {
      "name": "python"
    }
  },
  "cells": [
    {
      "cell_type": "code",
      "execution_count": 1,
      "metadata": {
        "colab": {
          "base_uri": "https://localhost:8080/"
        },
        "id": "lMXZe0lkS6rA",
        "outputId": "30d62dcb-4630-450b-cb5a-20968f461017"
      },
      "outputs": [
        {
          "output_type": "stream",
          "name": "stdout",
          "text": [
            "File content:\n",
            " This is the first line.\n",
            "Here is the second line.\n",
            "And this is the third line.\n",
            "\n",
            "\n",
            "Reading lines one by one:\n",
            "This is the first line.\n",
            "Here is the second line.\n",
            "And this is the third line.\n",
            "This is an appended line.\n",
            "\n",
            "List of fruits: ['apple', 'banana', 'cherry', 'date']\n",
            "\n",
            "Total words in sample.txt: 21\n",
            "\n",
            "File copied to copy_sample.txt\n",
            "\n",
            "sample.txt exists and contains:\n",
            " This is the first line.\n",
            "Here is the second line.\n",
            "And this is the third line.\n",
            "This is an appended line.\n",
            "\n",
            "\n",
            "copy_sample.txt has been deleted.\n"
          ]
        }
      ],
      "source": [
        "import os\n",
        "\n",
        "# Task 1: Create a new text file and write a few lines into it\n",
        "with open(\"sample.txt\", \"w\") as file:\n",
        "    file.write(\"This is the first line.\\n\")\n",
        "    file.write(\"Here is the second line.\\n\")\n",
        "    file.write(\"And this is the third line.\\n\")\n",
        "\n",
        "# Task 2: Open and read the contents of the file\n",
        "with open(\"sample.txt\", \"r\") as file:\n",
        "    content = file.read()\n",
        "    print(\"File content:\\n\", content)\n",
        "\n",
        "# Task 3: Add additional text to the existing file without deleting the current content\n",
        "with open(\"sample.txt\", \"a\") as file:\n",
        "    file.write(\"This is an appended line.\\n\")\n",
        "\n",
        "# Task 4: Read and print each line from the file one by one\n",
        "print(\"\\nReading lines one by one:\")\n",
        "with open(\"sample.txt\", \"r\") as file:\n",
        "    for line in file:\n",
        "        print(line.strip())\n",
        "\n",
        "# Task 5: Write the contents of a list to a file, with each item on a new line\n",
        "fruits = [\"apple\", \"banana\", \"cherry\", \"date\"]\n",
        "with open(\"fruits.txt\", \"w\") as file:\n",
        "    for fruit in fruits:\n",
        "        file.write(fruit + \"\\n\")\n",
        "\n",
        "# Task 6: Read the file content into a list, where each line is an element of the list\n",
        "with open(\"fruits.txt\", \"r\") as file:\n",
        "    fruit_lines = file.readlines()\n",
        "    print(\"\\nList of fruits:\", [line.strip() for line in fruit_lines])\n",
        "\n",
        "# Task 7: Count the total number of words in the file\n",
        "with open(\"sample.txt\", \"r\") as file:\n",
        "    text = file.read()\n",
        "    word_count = len(text.split())\n",
        "    print(\"\\nTotal words in sample.txt:\", word_count)\n",
        "\n",
        "# Task 8: Copy the contents of one file to another file\n",
        "with open(\"sample.txt\", \"r\") as src, open(\"copy_sample.txt\", \"w\") as dst:\n",
        "    dst.write(src.read())\n",
        "print(\"\\nFile copied to copy_sample.txt\")\n",
        "\n",
        "# Task 9: Check if a file exists before attempting to read it\n",
        "file_to_check = \"sample.txt\"\n",
        "if os.path.exists(file_to_check):\n",
        "    with open(file_to_check, \"r\") as file:\n",
        "        print(f\"\\n{file_to_check} exists and contains:\\n\", file.read())\n",
        "else:\n",
        "    print(f\"\\n{file_to_check} does not exist.\")\n",
        "\n",
        "# Task 10: Delete a file using Python\n",
        "file_to_delete = \"copy_sample.txt\"\n",
        "if os.path.exists(file_to_delete):\n",
        "    os.remove(file_to_delete)\n",
        "    print(f\"\\n{file_to_delete} has been deleted.\")\n",
        "else:\n",
        "    print(f\"\\n{file_to_delete} does not exist.\")\n"
      ]
    },
    {
      "cell_type": "code",
      "source": [],
      "metadata": {
        "id": "8xe_G4ujVl6_"
      },
      "execution_count": null,
      "outputs": []
    }
  ]
}