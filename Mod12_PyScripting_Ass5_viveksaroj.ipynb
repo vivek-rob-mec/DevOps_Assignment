{
  "nbformat": 4,
  "nbformat_minor": 0,
  "metadata": {
    "colab": {
      "provenance": []
    },
    "kernelspec": {
      "name": "python3",
      "display_name": "Python 3"
    },
    "language_info": {
      "name": "python"
    }
  },
  "cells": [
    {
      "cell_type": "code",
      "execution_count": 1,
      "metadata": {
        "id": "1eQpFxnFZd5l"
      },
      "outputs": [],
      "source": [
        "# Q1. Write Python scripts for basic file operations and data processing?\n",
        "# Operations include:\n",
        "# 1. Creating and writing to a file\n",
        "# 2. Appending data\n",
        "# 3. Reading File content\n",
        "# 4. Processing data like word, line count, filtering lines\n",
        "# 5. Copying content\n",
        "# 6. Checking and deleting a file\n",
        "\n",
        "import os"
      ]
    },
    {
      "cell_type": "code",
      "source": [
        "with open('Data.txt','w') as f:\n",
        "  f.write(\"vivek 22\\nanil 32\\nketan 30\\nharikesh 25\\nhanumant 23\\n\")\n"
      ],
      "metadata": {
        "id": "Birbmddmp0Rx"
      },
      "execution_count": 2,
      "outputs": []
    },
    {
      "cell_type": "code",
      "source": [
        "with open(\"Data.txt\",'a') as f:\n",
        "  f.write(\"mahesh 24\\n\")"
      ],
      "metadata": {
        "id": "VGpPEiztqXri"
      },
      "execution_count": 3,
      "outputs": []
    },
    {
      "cell_type": "code",
      "source": [
        "with open('Data.txt','r') as f:\n",
        "  content = f.read()\n",
        "  print(content)"
      ],
      "metadata": {
        "colab": {
          "base_uri": "https://localhost:8080/"
        },
        "id": "wCJeozG1qk1L",
        "outputId": "059bb9f5-f4a5-4e54-80eb-95e02b88dde8"
      },
      "execution_count": 4,
      "outputs": [
        {
          "output_type": "stream",
          "name": "stdout",
          "text": [
            "vivek 22\n",
            "anil 32\n",
            "ketan 30\n",
            "harikesh 25\n",
            "hanumant 23\n",
            "mahesh 24\n",
            "\n"
          ]
        }
      ]
    },
    {
      "cell_type": "code",
      "source": [
        "with open(\"Data.txt\",'r') as f:\n",
        "  lines = f.readlines()\n",
        "  count = len(lines)\n",
        "  word = sum(len(line.split()) for line in lines)\n",
        "  print(f\"Total Lines: {count}\")\n",
        "  print(f\"Total Words: {word}\")"
      ],
      "metadata": {
        "colab": {
          "base_uri": "https://localhost:8080/"
        },
        "id": "enwWhgJGqxJI",
        "outputId": "622c4ebc-e39f-4cb8-da6b-c9e9754c38b1"
      },
      "execution_count": 7,
      "outputs": [
        {
          "output_type": "stream",
          "name": "stdout",
          "text": [
            "Total Lines: 6\n",
            "Total Words: 12\n"
          ]
        }
      ]
    },
    {
      "cell_type": "code",
      "source": [
        "for line in lines:\n",
        "  name, age = line.strip().split()\n",
        "  if int(age) > 25:\n",
        "    print(name)"
      ],
      "metadata": {
        "colab": {
          "base_uri": "https://localhost:8080/"
        },
        "id": "YvHoq9-7rhNG",
        "outputId": "c9346041-89a3-4d61-89aa-4405d43f7a5e"
      },
      "execution_count": 8,
      "outputs": [
        {
          "output_type": "stream",
          "name": "stdout",
          "text": [
            "anil\n",
            "ketan\n"
          ]
        }
      ]
    },
    {
      "cell_type": "code",
      "source": [
        "with open(\"copied_data.txt\",'w') as f_copy:\n",
        "  f_copy.writelines(lines)\n",
        ""
      ],
      "metadata": {
        "id": "bLsCFTTsr9zP"
      },
      "execution_count": 9,
      "outputs": []
    },
    {
      "cell_type": "code",
      "source": [
        "if os.path.exists(\"/content/copied_data.txt\"):\n",
        "  print(\"File exist and data copied successfully\")"
      ],
      "metadata": {
        "colab": {
          "base_uri": "https://localhost:8080/"
        },
        "id": "fB6b_UAptOBd",
        "outputId": "6ae44992-242e-46bf-85c5-8769e9772be1"
      },
      "execution_count": 10,
      "outputs": [
        {
          "output_type": "stream",
          "name": "stdout",
          "text": [
            "File exist and data copied successfully\n"
          ]
        }
      ]
    },
    {
      "cell_type": "code",
      "source": [
        "if os.path.exists(\"/content/copied_data.txt\"):\n",
        "  os.remove(\"/content/copied_data.txt\")\n",
        "  print(\"File deleted successfully\")\n",
        "else:\n",
        "  print(\"File doesn't exist\")"
      ],
      "metadata": {
        "colab": {
          "base_uri": "https://localhost:8080/"
        },
        "id": "-6L6J6E5tcPn",
        "outputId": "60107ced-652f-4ef0-a485-ee01793426b3"
      },
      "execution_count": 11,
      "outputs": [
        {
          "output_type": "stream",
          "name": "stdout",
          "text": [
            "File deleted successfully\n"
          ]
        }
      ]
    },
    {
      "cell_type": "code",
      "source": [
        "# Q2. Develop a simple web scraper to extract data from a website?\n",
        "import requests\n",
        "from bs4 import BeautifulSoup\n",
        "\n",
        "url = 'https://www.theproductfolks.com/product-management-blog/master-product-management-skills-through-real-world-experience'  # Replace with a real blog/product page\n",
        "\n",
        "# Send HTTP request\n",
        "response = requests.get(url)\n",
        "\n",
        "# Check if request was successful\n",
        "if response.status_code == 200:\n",
        "    soup = BeautifulSoup(response.text, 'html.parser')\n",
        "\n",
        "    # extract all headings (h2 tags)\n",
        "    headings = soup.find_all('h2')\n",
        "\n",
        "    print(\"Extracted Headings:\")\n",
        "    for idx, heading in enumerate(headings, 1):\n",
        "        print(f\"{idx}. {heading.get_text(strip=True)}\")\n",
        "else:\n",
        "    print(\"Failed to retrieve the page.\")\n"
      ],
      "metadata": {
        "colab": {
          "base_uri": "https://localhost:8080/"
        },
        "id": "lYVxOLzctpX_",
        "outputId": "6d628fd1-1667-400a-b0de-423166a08c5b"
      },
      "execution_count": 14,
      "outputs": [
        {
          "output_type": "stream",
          "name": "stdout",
          "text": [
            "Extracted Headings:\n",
            "1. Putting Learning into Practice\n",
            "2. Conclusion and Key Takeaways\n"
          ]
        }
      ]
    },
    {
      "cell_type": "code",
      "source": [],
      "metadata": {
        "id": "tMVN1X_YukZ0"
      },
      "execution_count": null,
      "outputs": []
    }
  ]
}