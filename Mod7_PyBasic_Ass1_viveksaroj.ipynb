{
  "nbformat": 4,
  "nbformat_minor": 0,
  "metadata": {
    "colab": {
      "provenance": []
    },
    "kernelspec": {
      "name": "python3",
      "display_name": "Python 3"
    },
    "language_info": {
      "name": "python"
    }
  },
  "cells": [
    {
      "cell_type": "markdown",
      "source": [
        "# Q1. Explain the key features of Python that make it a popular choice for programming\n",
        "Ans:\n",
        "* **Free ware and Open Source:** We can use Python software without any licence and it is freeware.\n",
        "* **Simple and Easy to learn:** Python is a simple programming language. When we read Python program,we can feel like reading english statements.\n",
        "* **High Level Programming language:** Being a programmer we are not required to concentrate low level activities like memory management and security etc.\n",
        "* **Platform Independent:** Once we write a Python program,it can run on any platform without rewriting once again. Internally PVM is responsible to convert into machine understandable form.\n",
        "* **Portability:** Python programs are portable. ie we can migrate from one platform to another platform very easily. Python programs will provide same results on any paltform.\n",
        "* **Dynamically Typed:** we are not required to declare type for variables. Whenever we are assigning the value, based on value, type will be allocated automatically.Hence Python is considered as dynamically typed language.\n",
        "* **Both Procedure and Object oriented:** Python language supports both Procedure oriented (like C, pascal etc) and object oriented (like C++, Java) features. Hence we can get benefits of both like security and reusability etc\n",
        "* **Extensive Library:** Python has a rich inbuilt library. Being a programmer we can use this library directly and we are not responsible to  implement the functionality. Etc.\n"
      ],
      "metadata": {
        "id": "N7YEv6qn8C1k"
      }
    },
    {
      "cell_type": "markdown",
      "source": [
        "# Q2. Describe the role of predefined keywords in Python and provide examples of how they are used in a program.\n",
        "Ans:\n",
        "* **In Python some words are reserved to represent some meaning or functionality. Such types of words are called reserved words.**\n",
        "* There are 33 reserved keywords in python:\n",
        "  * True, False, None\n",
        "  * and, or, not, is\n",
        "  * if, elif, else\n",
        "  * while, break, continue, for, yield, return, in\n",
        "  * try, except, finally, raise, assert\n",
        "  * import, from, as, class, def, pass, global, nonlocal, lambda, del, with\n",
        "\n",
        " ```\n",
        " import keyword\n",
        " keyword.list\n",
        " a = True\n",
        " b = False\n",
        "```"
      ],
      "metadata": {
        "id": "Cy42mdzU_VxO"
      }
    },
    {
      "cell_type": "markdown",
      "source": [
        "# Q3. Compare and contrast mutable and immutable objects in Python with examples.\n",
        "Ans:\n",
        "In Python, **mutable** and **immutable** objects refer to whether or not an object’s state (i.e., its contents) can be changed after it is created.\n",
        "\n",
        "---\n",
        "\n",
        "###  Mutable Objects\n",
        "\n",
        "**Definition:** Objects that can be changed after they are created.\n",
        "\n",
        "**Examples:** `list`, `dict`, `set`, `bytearray`\n",
        "\n",
        "* The list `my_list` was modified using `.append()`, so it is mutable.\n",
        "\n",
        "---\n",
        "\n",
        "### Immutable Objects\n",
        "\n",
        "**Definition:** Objects that cannot be changed after they are created.\n",
        "\n",
        "**Examples:** `int`, `float`, `str`, `tuple`, `frozenset`, `bytes`\n",
        "\n",
        "* The original string `my_str` remains unchanged; `replace()` returns a new string. So, strings are immutable.\n",
        "\n",
        "---\n",
        "\n",
        "###  Key Differences\n",
        "\n",
        "| Feature            | Mutable                                     | Immutable                           |\n",
        "| ------------------ | ------------------------------------------- | ----------------------------------- |\n",
        "| Can change content | Yes                                         | No                                  |\n",
        "| Memory behavior    | Changes in-place                            | New object is created on change     |\n",
        "| Hashable           | Generally not hashable (can't be dict keys) | Hashable (can be used as dict keys) |\n",
        "| Examples           | `list`, `dict`, `set`                       | `int`, `str`, `tuple`, `float`      |\n",
        "\n",
        "---\n",
        "\n",
        "### Why It Matters\n",
        "\n",
        "* **Performance**: Immutable objects are often faster and require less memory allocation.\n",
        "* **Safety**: Immutable objects are safer in multithreaded environments since their state can’t be changed.\n",
        "* **Use in collections**: Immutable objects can be used as dictionary keys or set elements; mutable objects cannot.\n"
      ],
      "metadata": {
        "id": "L-ZWOoX6GJRZ"
      }
    },
    {
      "cell_type": "code",
      "source": [
        "#### Example: immutable object\n",
        "my_str = \"Hello\"\n",
        "new_str = my_str.replace(\"H\", \"J\")\n",
        "print(my_str)   # Output: Hello\n",
        "print(new_str)  # Output: Jello"
      ],
      "metadata": {
        "colab": {
          "base_uri": "https://localhost:8080/"
        },
        "id": "nyGC1OwRG0On",
        "outputId": "16dd4fc2-a768-4bc9-ff81-3056bff89721"
      },
      "execution_count": 2,
      "outputs": [
        {
          "output_type": "stream",
          "name": "stdout",
          "text": [
            "Hello\n",
            "Jello\n"
          ]
        }
      ]
    },
    {
      "cell_type": "code",
      "source": [
        "\n",
        "#### Example: mutable object\n",
        "my_list = [1, 2, 3]\n",
        "my_list.append(4)\n",
        "print(my_list)  # Output: [1, 2, 3, 4]\n"
      ],
      "metadata": {
        "colab": {
          "base_uri": "https://localhost:8080/"
        },
        "id": "a1-rnkj2G21F",
        "outputId": "76d189b3-7bf7-4c07-898e-3fae1b703953"
      },
      "execution_count": 3,
      "outputs": [
        {
          "output_type": "stream",
          "name": "stdout",
          "text": [
            "[1, 2, 3, 4]\n"
          ]
        }
      ]
    },
    {
      "cell_type": "markdown",
      "source": [
        "# Q4. Discuss the different types of operators in Python and provide examples of how they are used.\n",
        "Ans:\n",
        "In Python operators are special symbols or keywords that perform operations on variables and values. Main types of operators in Python, with examples for each:\n",
        "\n",
        "### 1. **Arithmetic Operators**\n",
        "\n",
        "Used for basic mathematical operations.\n",
        "\n",
        "| Operator | Description    | Example         |\n",
        "| -------- | -------------- | --------------- |\n",
        "| `+`      | Addition       | `5 + 3` → `8`   |\n",
        "| `-`      | Subtraction    | `5 - 3` → `2`   |\n",
        "| `*`      | Multiplication | `5 * 3` → `15`  |\n",
        "| `/`      | Division       | `5 / 2` → `2.5` |\n",
        "| `//`     | Floor Division | `5 // 2` → `2`  |\n",
        "| `%`      | Modulus        | `5 % 2` → `1`   |\n",
        "| `**`     | Exponentiation | `2 ** 3` → `8`  |\n",
        "\n",
        "---\n",
        "\n",
        "### 2. **Comparison (Relational) Operators**\n",
        "\n",
        "Used to compare two values. Returns `True` or `False`.\n",
        "\n",
        "| Operator | Description      | Example            |\n",
        "| -------- | ---------------- | ------------------ |\n",
        "| `==`     | Equal to         | `5 == 5` → `True`  |\n",
        "| `!=`     | Not equal to     | `5 != 3` → `True`  |\n",
        "| `>`      | Greater than     | `5 > 3` → `True`   |\n",
        "| `<`      | Less than        | `5 < 3` → `False`  |\n",
        "| `>=`     | Greater or equal | `5 >= 5` → `True`  |\n",
        "| `<=`     | Less or equal    | `5 <= 4` → `False` |\n",
        "\n",
        "---\n",
        "\n",
        "### 3. **Assignment Operators**\n",
        "\n",
        "Used to assign values to variables.\n",
        "\n",
        "| Operator | Example   | Equivalent To |\n",
        "| -------- | --------- | ------------- |\n",
        "| `=`      | `x = 5`   | Assign 5 to x |\n",
        "| `+=`     | `x += 3`  | `x = x + 3`   |\n",
        "| `-=`     | `x -= 2`  | `x = x - 2`   |\n",
        "| `*=`     | `x *= 3`  | `x = x * 3`   |\n",
        "| `/=`     | `x /= 2`  | `x = x / 2`   |\n",
        "| `//=`    | `x //= 2` | `x = x // 2`  |\n",
        "| `%=`     | `x %= 3`  | `x = x % 3`   |\n",
        "| `**=`    | `x **= 2` | `x = x ** 2`  |\n",
        "\n",
        "---\n",
        "\n",
        "### 4. **Logical Operators**\n",
        "\n",
        "Used to combine conditional statements.\n",
        "\n",
        "| Operator | Description                            | Example            |\n",
        "| -------- | -------------------------------------- | ------------------ |\n",
        "| `and`    | Returns `True` if both are true        | `x > 1 and x < 10` |\n",
        "| `or`     | Returns `True` if at least one is true | `x < 1 or x > 10`  |\n",
        "| `not`    | Reverses the result                    | `not(x < 5)`       |\n",
        "\n",
        "---\n",
        "\n",
        "### 5. **Bitwise Operators**\n",
        "\n",
        "Operate on binary numbers.\n",
        "\n",
        "| Operator | Description | Example         | Binary Example                       |         |        |               |\n",
        "| -------- | ----------- | --------------- | ------------------------------------ | ------- | ------ | ------------- |\n",
        "| `&`      | AND         | `5 & 3` → `1`   | `0101 & 0011` = `0001`               |         |        |               |\n",
        "| \\`       | \\`          | OR              | \\`5                                  | 3`→`7\\` | \\`0101 | 0011`=`0111\\` |\n",
        "| `^`      | XOR         | `5 ^ 3` → `6`   | `0101 ^ 0011` = `0110`               |         |        |               |\n",
        "| `~`      | NOT         | `~5` → `-6`     | `~0101` = `1010` (in 2’s complement) |         |        |               |\n",
        "| `<<`     | Left Shift  | `5 << 1` → `10` |                                      |         |        |               |\n",
        "| `>>`     | Right Shift | `5 >> 1` → `2`  |                                      |         |        |               |\n",
        "\n",
        "---\n",
        "\n",
        "### 6. **Membership Operators**\n",
        "\n",
        "Check for membership in sequences like lists, strings, etc.\n",
        "\n",
        "| Operator | Description            | Example                     |\n",
        "| -------- | ---------------------- | --------------------------- |\n",
        "| `in`     | True if value is found | `'a' in 'cat'` → `True`     |\n",
        "| `not in` | True if not found      | `'x' not in 'cat'` → `True` |\n",
        "\n",
        "---\n",
        "\n",
        "### 7. **Identity Operators**\n",
        "\n",
        "Check if two variables refer to the same object.\n",
        "\n",
        "| Operator | Description             | Example      |\n",
        "| -------- | ----------------------- | ------------ |\n",
        "| `is`     | True if same object     | `x is y`     |\n",
        "| `is not` | True if not same object | `x is not y` |\n",
        "\n"
      ],
      "metadata": {
        "id": "mEa4lB0EHVif"
      }
    },
    {
      "cell_type": "markdown",
      "source": [
        "# Q5. Explain the concept of type casting in Python with examples.\n",
        "Ans:\n",
        "* We can convert one type value to another type. This conversion is called Typecasting or Type coersion.\n",
        "* The following are various inbuilt functions for type casting.\n",
        "  * float()\n",
        "  * int()\n",
        "  * str()\n",
        "  * bool()\n",
        "  * complex()\n",
        "  * list()\n",
        "  * tuple()\n",
        "  * set()\n",
        "  * dict()"
      ],
      "metadata": {
        "id": "YgV3rgy6JsuB"
      }
    },
    {
      "cell_type": "code",
      "source": [
        "print(int(\"10\"))            # Converts string to integer → 10\n",
        "print(float(\"3.14\"))        # Converts string to float → 3.14\n",
        "print(str(123))            # Converts integer to string → '123'\n",
        "print(bool(0))              # Converts 0 to boolean → False\n",
        "print(list(\"abc\"))          # Converts string to list → ['a', 'b', 'c']\n",
        "print(tuple([1, 2]))        # Converts list to tuple → (1, 2)\n",
        "print(set([1, 2, 2]))       # Converts list to set → {1, 2}\n",
        "print(dict([(1, 'a'), (2, 'b')]))  # Converts list of tuples to dict → {1: 'a', 2: 'b'}"
      ],
      "metadata": {
        "colab": {
          "base_uri": "https://localhost:8080/"
        },
        "id": "mxIl3ON0HFRr",
        "outputId": "9f00b551-5416-46e6-e67d-7e8a7cc04b97"
      },
      "execution_count": 5,
      "outputs": [
        {
          "output_type": "stream",
          "name": "stdout",
          "text": [
            "10\n",
            "3.14\n",
            "123\n",
            "False\n",
            "['a', 'b', 'c']\n",
            "(1, 2)\n",
            "{1, 2}\n",
            "{1: 'a', 2: 'b'}\n"
          ]
        }
      ]
    },
    {
      "cell_type": "markdown",
      "source": [
        "# Q6. How do conditional statements work in Python? Illustrate with examples.\n",
        "Ans:\n",
        "Python let you execute code blocks based on whether a condition is True or False. These are essential for decision-making in a program.\n",
        "```\n",
        "if condition:\n",
        "    # code block executed if condition is True\n",
        "elif another_condition:\n",
        "    # code block executed if the above is False and this is True\n",
        "else:\n",
        "    # code block executed if none of the above conditions are True\n",
        "```\n",
        "Conditions use comparison (==, !=, >, etc.) or logical (and, or, not) operators.\n"
      ],
      "metadata": {
        "id": "q-pleRMSLW3Z"
      }
    },
    {
      "cell_type": "code",
      "source": [
        "x = 10\n",
        "if x > 5:\n",
        "    print(\"x is greater than 5\")  # Output: x is greater than 5\n"
      ],
      "metadata": {
        "colab": {
          "base_uri": "https://localhost:8080/"
        },
        "id": "YKHhWMPZKwsj",
        "outputId": "9ae64cc1-7a64-4346-dd1f-f934a319fa04"
      },
      "execution_count": 1,
      "outputs": [
        {
          "output_type": "stream",
          "name": "stdout",
          "text": [
            "x is greater than 5\n"
          ]
        }
      ]
    },
    {
      "cell_type": "code",
      "source": [
        "x = 3\n",
        "if x % 2 == 0:\n",
        "    print(\"Even\")\n",
        "else:\n",
        "    print(\"Odd\")  # Output: Odd\n"
      ],
      "metadata": {
        "colab": {
          "base_uri": "https://localhost:8080/"
        },
        "id": "2O8m1jUlILOd",
        "outputId": "dc5d710d-ae76-485e-8e3d-f9a7a0b05f0c"
      },
      "execution_count": 2,
      "outputs": [
        {
          "output_type": "stream",
          "name": "stdout",
          "text": [
            "Odd\n"
          ]
        }
      ]
    },
    {
      "cell_type": "code",
      "source": [
        "x = 0\n",
        "if x > 0:\n",
        "    print(\"Positive\")\n",
        "elif x < 0:\n",
        "    print(\"Negative\")\n",
        "else:\n",
        "    print(\"Zero\")  # Output: Zero\n"
      ],
      "metadata": {
        "colab": {
          "base_uri": "https://localhost:8080/"
        },
        "id": "nal0JK-SIPBi",
        "outputId": "08199fcd-76cc-489a-b69c-2f3336d89017"
      },
      "execution_count": 3,
      "outputs": [
        {
          "output_type": "stream",
          "name": "stdout",
          "text": [
            "Zero\n"
          ]
        }
      ]
    },
    {
      "cell_type": "code",
      "source": [
        "x = 7\n",
        "if x > 0:\n",
        "    if x < 10:\n",
        "        print(\"Single-digit positive number\")  # Output: Single-digit positive number\n"
      ],
      "metadata": {
        "colab": {
          "base_uri": "https://localhost:8080/"
        },
        "id": "fC4YW4onIRRa",
        "outputId": "c3ed0daf-86a5-4870-ef5f-22b47c201215"
      },
      "execution_count": 4,
      "outputs": [
        {
          "output_type": "stream",
          "name": "stdout",
          "text": [
            "Single-digit positive number\n"
          ]
        }
      ]
    },
    {
      "cell_type": "code",
      "source": [
        "# oneline if else\n",
        "x = 8\n",
        "result = \"Even\" if x % 2 == 0 else \"Odd\"\n",
        "print(result)  # Output: Even\n"
      ],
      "metadata": {
        "colab": {
          "base_uri": "https://localhost:8080/"
        },
        "id": "dtUcSDFuIT5n",
        "outputId": "fedb4d24-0bb6-488a-9ee1-3a986d5134cf"
      },
      "execution_count": 5,
      "outputs": [
        {
          "output_type": "stream",
          "name": "stdout",
          "text": [
            "Even\n"
          ]
        }
      ]
    },
    {
      "cell_type": "markdown",
      "source": [
        "# Q7. Describe the different types of loops in Python and their use cases with examples.\n",
        "Ans:\n",
        "* If we want to execute a group of statements multiple times then we should go for Iterative statements.\n",
        "* Python supports 2 types of iterative statements. 1) for loop 2) while loop\n",
        "---\n",
        "1) for loop: If we want to execute some action for every element present in some sequence (it may be string or collection) then we should go for for loop.\n",
        "\n",
        "\n",
        "Syntax: <br>\n",
        "for x in sequence:                         \n",
        ">Body          \n",
        "* sequence can be string or any collection.         \n",
        "* Body will be executed for every element present in the sequence.\n",
        "---\n",
        "\n",
        "2) while loop:\n",
        "If we want to execute a group of statements iteratively until some condition false,then we should go for while loop.        \n",
        "Syntax: <br>\n",
        "while condition :                       \n",
        "> body\n"
      ],
      "metadata": {
        "id": "xmP85eyNIuz4"
      }
    },
    {
      "cell_type": "code",
      "source": [
        "s=\"hello devops\"\n",
        "for x in s :\n",
        "   print(x)"
      ],
      "metadata": {
        "colab": {
          "base_uri": "https://localhost:8080/"
        },
        "id": "KRurwkHoIvwl",
        "outputId": "3b7230b5-b3da-4528-ff1d-df5aaaf86307"
      },
      "execution_count": 6,
      "outputs": [
        {
          "output_type": "stream",
          "name": "stdout",
          "text": [
            "h\n",
            "e\n",
            "l\n",
            "l\n",
            "o\n",
            " \n",
            "d\n",
            "e\n",
            "v\n",
            "o\n",
            "p\n",
            "s\n"
          ]
        }
      ]
    },
    {
      "cell_type": "code",
      "source": [
        "x = 1\n",
        "while x <=10:\n",
        "  print(x)\n",
        "  x += 1"
      ],
      "metadata": {
        "colab": {
          "base_uri": "https://localhost:8080/"
        },
        "id": "tE_CZnRBJ3Im",
        "outputId": "6f5a1a3a-11a4-4ef0-d72e-2ecb3d06be8b"
      },
      "execution_count": 9,
      "outputs": [
        {
          "output_type": "stream",
          "name": "stdout",
          "text": [
            "1\n",
            "2\n",
            "3\n",
            "4\n",
            "5\n",
            "6\n",
            "7\n",
            "8\n",
            "9\n",
            "10\n"
          ]
        }
      ]
    },
    {
      "cell_type": "code",
      "source": [],
      "metadata": {
        "id": "ThV7cjvVKFf2"
      },
      "execution_count": null,
      "outputs": []
    }
  ]
}