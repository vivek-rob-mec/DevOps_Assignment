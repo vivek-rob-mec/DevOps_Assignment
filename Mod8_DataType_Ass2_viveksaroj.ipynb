{
  "nbformat": 4,
  "nbformat_minor": 0,
  "metadata": {
    "colab": {
      "provenance": []
    },
    "kernelspec": {
      "name": "python3",
      "display_name": "Python 3"
    },
    "language_info": {
      "name": "python"
    }
  },
  "cells": [
    {
      "cell_type": "markdown",
      "source": [
        "# Q1. What are data structures, and why are they important?\n",
        "Ans:\n",
        "\n",
        "A **data structure** is a specialized format for **organizing, storing, and managing data** efficiently so it can be used effectively. In programming, data structures help you **perform operations like insertion, deletion, search, and sorting** more efficiently.\n",
        "\n",
        "---\n",
        "\n",
        "###  Importance\n",
        "\n",
        "| Reason                         | Description                                                                  |\n",
        "| ------------------------------ | ---------------------------------------------------------------------------- |\n",
        "| ✅ **Efficient Data Access**    | Enables fast searching, sorting, and updating.                               |\n",
        "| ✅ **Better Code Organization** | Structures complex data clearly and logically.                               |\n",
        "| ✅ **Optimized Memory Usage**   | Minimizes waste and increases performance.                                   |\n",
        "| ✅ **Scalability**              | Essential for handling large volumes of data.                                |\n",
        "| ✅ **Foundation of Algorithms** | Many algorithms are built on specific data structures (e.g., trees, heaps).  |\n",
        "| ✅ **Problem Solving**          | Key to solving real-world problems (e.g., graphs for maps, stacks for undo). |\n",
        "\n",
        "---\n",
        "\n",
        "###  Examples of Data Structures in Python\n",
        "\n",
        "| Type         | Description                    | Example Syntax                     |\n",
        "| ------------ | ------------------------------ | ---------------------------------- |\n",
        "| `list`       | Ordered, mutable collection    | `my_list = [1, 2, 3]`              |\n",
        "| `tuple`      | Ordered, immutable collection  | `my_tuple = (1, 2, 3)`             |\n",
        "| `set`        | Unordered, unique elements     | `my_set = {1, 2, 3}`               |\n",
        "| `dict`       | Key-value pairs (unordered)    | `my_dict = {'a': 1, 'b': 2}`       |\n",
        "| `stack`      | LIFO (via list or collections) | `stack.append(x); stack.pop()`     |\n",
        "| `queue`      | FIFO (via `collections.deque`) | `queue.append(x); queue.popleft()` |\n",
        "| `heap`       | Priority queue                 | `heapq.heappush(); heappop()`      |\n",
        "| `graph/tree` | Non-linear data structures     | Implemented via classes/dicts      |\n",
        "\n",
        "---\n",
        "\n",
        "###  In Summary:\n",
        "\n",
        "> **Data structures are the backbone of efficient programming.** Choosing the right one improves performance, readability, and scalability of your code.\n"
      ],
      "metadata": {
        "id": "VmnmSyG_YRwh"
      }
    },
    {
      "cell_type": "markdown",
      "source": [
        "# Q2. Explain the difference between mutable and immutable data types with examples.\n",
        "Ans:\n",
        "\n",
        "###  **Mutable Data Types**\n",
        "\n",
        "* **Definition**: Mutable objects **can be changed** after they are created.\n",
        "* You can modify their content without changing their identity (memory location).\n",
        "\n",
        "####  Examples:\n",
        "\n",
        "* `list`\n",
        "* `set`\n",
        "* `dict`\n",
        "\n",
        "####  Example with `list`:\n",
        "\n",
        "```python\n",
        "my_list = [1, 2, 3]\n",
        "my_list[0] = 100\n",
        "print(my_list)       # Output: [100, 2, 3]\n",
        "```\n",
        "\n",
        "You changed the content of the list after creation — it's **mutable**.\n",
        "\n",
        "---\n",
        "\n",
        "###  **Immutable Data Types**\n",
        "\n",
        "* **Definition**: Immutable objects **cannot be changed** after they are created.\n",
        "* Any modification creates a **new object** in memory.\n",
        "\n",
        "####  Examples:\n",
        "\n",
        "* `int`\n",
        "* `float`\n",
        "* `str`\n",
        "* `tuple`\n",
        "* `bool`\n",
        "\n",
        "####  Example with `str`:\n",
        "\n",
        "```python\n",
        "name = \"Alice\"\n",
        "name = name.replace(\"A\", \"M\")\n",
        "print(name)          # Output: \"Mlice\"\n",
        "```\n",
        "\n",
        "A **new string** was created. The original `\"Alice\"` did not change — strings are **immutable**.\n"
      ],
      "metadata": {
        "id": "DEhyHk13YSAW"
      }
    },
    {
      "cell_type": "markdown",
      "source": [
        "# Q3. What are the main differences between lists and tuples in Python?\n",
        "Ans:\n",
        "\n",
        "###  **Main Differences Between `list` and `tuple`**\n",
        "\n",
        "| Feature          | `list`                              | `tuple`                              |\n",
        "| ---------------- | ----------------------------------- | ------------------------------------ |\n",
        "| **Mutability**   | ✅ Mutable (can be changed)          | ❌ Immutable (cannot be changed)      |\n",
        "| **Syntax**       | `[1, 2, 3]`                         | `(1, 2, 3)`                          |\n",
        "| **Performance**  | Slightly slower                     | Faster (due to immutability)         |\n",
        "| **Methods**      | Many methods (e.g. `append()`)      | Fewer methods (`count()`, `index()`) |\n",
        "| **Use Case**     | When data may change                | When data should stay constant       |\n",
        "| **Memory Usage** | Uses more memory                    | Uses less memory                     |\n",
        "| **Hashable**     | ❌ Not hashable (can’t be dict keys) | ✅ Hashable if elements are hashable  |\n",
        "\n",
        "---\n",
        "\n",
        "###  Example:\n",
        "\n",
        "```python\n",
        "my_list = [1, 2, 3]\n",
        "my_list.append(4)         # Works\n",
        "\n",
        "my_tuple = (1, 2, 3)\n",
        "# my_tuple.append(4)      # ❌ Error: 'tuple' object has no attribute 'append'\n",
        "```"
      ],
      "metadata": {
        "id": "4wVNSM_VYSEw"
      }
    },
    {
      "cell_type": "markdown",
      "source": [
        "# Q4. Describe how dictionaries store data.\n",
        "Ans:\n",
        "A dictionary in Python stores data as key-value pairs, using a highly efficient hash table under the hood.\n",
        "\n",
        "### Structure:\n",
        "\n",
        "```python\n",
        "my_dict = {\n",
        "    'name': 'Alice',\n",
        "    'age': 25,\n",
        "    'city': 'New York'\n",
        "}\n",
        "```\n",
        "\n",
        "###  How It Works Internally:\n",
        "\n",
        "1. **Hashing the key**:\n",
        "   Python uses a **hash function** to convert the key into a unique hash (an integer).\n",
        "\n",
        "2. **Storing in a hash table**:\n",
        "   This hash is used as an **index** to quickly find or store the key-value pair in a hash table (a special array).\n",
        "\n",
        "3. **Retrieving values**:\n",
        "   When you access `my_dict['name']`, Python:\n",
        "\n",
        "   * Hashes `'name'`\n",
        "   * Looks up the hashed value's index\n",
        "   * Retrieves `'Alice'` efficiently\n",
        "\n",
        "4. **Handling collisions**:\n",
        "   If two keys hash to the same index, Python handles it internally using **open addressing** or **chaining** to avoid overwriting data.\n",
        "\n",
        "---\n",
        "\n",
        "###  Key Points:\n",
        "\n",
        "| Feature                | Description                                      |\n",
        "| ---------------------- | ------------------------------------------------ |\n",
        "| Unordered (pre-3.7)    | In older versions, insertion order not preserved |\n",
        "| Ordered (3.7+)         | Python 3.7+ maintains insertion order            |\n",
        "| Keys must be hashable  | e.g., `int`, `str`, `tuple`, not `list`          |\n",
        "| Values can be any type | including lists, other dicts, etc.               |\n",
        "\n",
        "---\n",
        "\n",
        "###  Example:\n",
        "\n",
        "```python\n",
        "person = {'name': 'Bob', 'age': 30}\n",
        "print(person['age'])   # Output: 30\n",
        "```\n"
      ],
      "metadata": {
        "id": "Ec2QNzfgYSJF"
      }
    },
    {
      "cell_type": "markdown",
      "source": [
        "# Q5. Why might you use a set instead of a list in Python?\n",
        "Ans:"
      ],
      "metadata": {
        "id": "9oJ0HZTMYSMg"
      }
    },
    {
      "cell_type": "markdown",
      "source": [
        "# Q6. What is a string in Python, and how is it different from a list?\n",
        "Ans:\n",
        "A **string** in Python is a sequence of **characters**, enclosed in single, double, or triple quotes.\n",
        "\n",
        "```python\n",
        "text = \"Hello, world!\"\n",
        "```\n",
        "\n",
        "* It's **immutable** — you can’t change characters in place.\n",
        "* Strings support indexing, slicing, and many built-in methods like `.upper()`, `.replace()`, etc.\n",
        "\n",
        "---\n",
        "\n",
        "### Key Differences Between String and List\n",
        "\n",
        "| Feature                | `string`                  | `list`                             |\n",
        "| ---------------------- | ------------------------- | ---------------------------------- |\n",
        "| **Type of data**       | Sequence of characters    | Sequence of any data types (mixed) |\n",
        "| **Syntax**             | `\"hello\"` or `'hello'`    | `[1, 'a', 3.14]`                   |\n",
        "| **Mutability**         | ❌ Immutable               | ✅ Mutable                          |\n",
        "| **Data type of items** | Always characters (`str`) | Can be mixed: `int`, `str`, etc.   |\n",
        "| **Methods**            | String-specific methods   | List-specific methods              |\n",
        "\n",
        "\n"
      ],
      "metadata": {
        "id": "5iWIPwEOYSP3"
      }
    },
    {
      "cell_type": "markdown",
      "source": [
        "# Q7. How do tuples ensure data integrity in Python?\n",
        "Ans:\n",
        "**Tuples** help ensure data integrity by being **immutable**, meaning **once created, their contents cannot be changed**. This immutability provides several benefits when you want to **protect data from accidental modification**.\n",
        "\n",
        "---\n",
        "\n",
        "###  Reasons Tuples Ensure Data Integrity:\n",
        "\n",
        "| Feature                      | How It Protects Data                                 |\n",
        "| ---------------------------- | ---------------------------------------------------- |\n",
        "| ❌ **No modification**        | You can’t `append`, `remove`, or `replace` items.    |\n",
        "| ✅ **Fixed structure**        | Ensures data shape/format stays consistent.          |\n",
        "| ✅ **Hashable**               | Can be used as keys in dictionaries or set elements. |\n",
        "| ✅ **Safe from side effects** | When passed to functions, contents stay unchanged.   |\n",
        "\n",
        "---\n",
        "\n",
        "###  Example:\n",
        "\n",
        "```python\n",
        "credentials = ('admin', 'password123')\n",
        "\n",
        "# credentials[1] = 'newpass'  ❌ Error: 'tuple' object does not support item assignment\n",
        "```\n",
        "\n",
        "This prevents the accidental change of sensitive information like credentials.\n",
        "\n",
        "---\n",
        "\n",
        "### Use Cases for Data Integrity with Tuples:\n",
        "\n",
        "* Configuration settings\n",
        "* Fixed coordinate values\n",
        "* Database records\n",
        "* Dictionary keys\n"
      ],
      "metadata": {
        "id": "3rRVcg6XYSVM"
      }
    },
    {
      "cell_type": "markdown",
      "source": [
        "# Q8. What is a hash table, and how does it relate to dictionaries in Python ?\n",
        "Ans:\n",
        "A **hash table** is a **data structure** that stores key-value pairs and uses a **hash function** to compute an index (a hash) into an array where the value is stored.\n",
        "\n",
        "---\n",
        "\n",
        "### How Hash Tables Work:\n",
        "\n",
        "1. **Hashing**: A **key** is passed through a **hash function** to get a hash code (an integer).\n",
        "2. **Indexing**: The hash code is mapped to an **index** in an internal array.\n",
        "3. **Storage**: The **value** is stored at that index.\n",
        "4. **Lookup**: To retrieve a value, the key is hashed again, and the index is used to find the value quickly.\n",
        "\n",
        "---\n",
        "\n",
        "### How It Relates to Python Dictionaries\n",
        "\n",
        "In Python:\n",
        "\n",
        "* A `dict` **is implemented using a hash table**.\n",
        "* Keys are **hashed**, and values are stored at the corresponding index.\n",
        "* Lookup, insertion, and deletion are on average **O(1)** time — very fast!\n",
        "\n",
        "---\n",
        "\n",
        "###  Example in Python:\n",
        "\n",
        "```python\n",
        "my_dict = {'name': 'Alice', 'age': 30}\n",
        "\n",
        "# 'name' is hashed to locate and store 'Alice'\n",
        "print(my_dict['name'])  # Output: Alice\n",
        "```\n",
        "\n",
        "---\n",
        "\n",
        "###  Key Characteristics of Python Dictionaries (Hash Tables):\n",
        "\n",
        "| Feature            | Description                                      |\n",
        "| ------------------ | ------------------------------------------------ |\n",
        "| Fast access        | Average-case O(1) time for lookup                |\n",
        "| Hashable keys only | Keys must be immutable (e.g., str, int, tuple)   |\n",
        "| Collision handling | Uses **open addressing** to resolve hash clashes |\n",
        "| Dynamic resizing   | Grows automatically as new items are added       |\n",
        "\n",
        "---\n",
        "\n",
        "###  Summary:\n",
        "\n",
        "> A **dictionary in Python** is a **high-level abstraction of a hash table**, giving you fast and efficient access to data through key-value pairs.\n"
      ],
      "metadata": {
        "id": "S-q-58GTYSY4"
      }
    },
    {
      "cell_type": "markdown",
      "source": [
        "# Q9. Can lists contain different data types in Python.\n",
        "Ans: A big Yes. Python lists are heterogeneous, meaning they can store elements of different data types in the same list."
      ],
      "metadata": {
        "id": "OGwAgZUxYScw"
      }
    },
    {
      "cell_type": "markdown",
      "source": [
        "# Q10. Explain why strings are immutable in Python.\n",
        "Ans:\n",
        "**Strings in Python are immutable**, meaning once a string is created, **its contents cannot be changed**. This design decision has important advantages.\n",
        "\n",
        "---\n",
        "\n",
        "### Reasons\n",
        "\n",
        "#### 1.  **Efficiency (Memory & Speed)**\n",
        "\n",
        "* Strings are commonly used in Python programs.\n",
        "* Immutability allows **string interning** (sharing identical string objects in memory), saving space and speeding up comparisons.\n",
        "\n",
        "#### 2.  **Safety & Data Integrity**\n",
        "\n",
        "* Since strings can't be changed accidentally, they're safer to use for sensitive or constant data like keys, labels, or messages.\n",
        "\n",
        "#### 3.  **Hashing Support**\n",
        "\n",
        "* Immutable strings can be **hashed**, so they can be used as **keys in dictionaries** and elements in sets.\n",
        "\n",
        "```python\n",
        "my_dict = {\"name\": \"Alice\"}  # \"name\" is a string key\n",
        "```\n",
        "\n",
        "#### 4.  **Functional Programming Friendly**\n",
        "\n",
        "* Strings behave more predictably in multi-threaded and functional programming scenarios where side effects must be avoided.\n",
        "\n",
        "---\n",
        "\n",
        "### What Happens If You Try to Modify a String?\n",
        "\n",
        "```python\n",
        "text = \"hello\"\n",
        "text[0] = \"H\"     # ❌ Error: 'str' object does not support item assignment\n",
        "```\n",
        "\n",
        "To \"modify\" a string, you must **create a new one**:\n",
        "\n",
        "```python\n",
        "text = \"hello\"\n",
        "new_text = \"H\" + text[1:]\n",
        "print(new_text)   # Output: \"Hello\"\n",
        "```\n",
        "\n",
        "---\n",
        "\n",
        "### Summary:\n",
        "\n",
        "> **Strings are immutable** to improve **performance, safety, and compatibility** with hashing and functional design. Every string operation that changes content actually creates a **new string object**.\n"
      ],
      "metadata": {
        "id": "IoVvKLnsYSgQ"
      }
    },
    {
      "cell_type": "markdown",
      "source": [
        "# Q11. What advantages do dictionaries offer over lists for certain tasks?\n",
        "Ans:\n",
        "Dictionaries (with key-value pairs) offer several advantages over lists (which are ordered collections) in specific tasks, especially when you need **fast lookups, unordered storage**, or **associative arrays**.\n",
        "\n",
        "---\n",
        "\n",
        "### 1. **Fast Lookups by Key (O(1) on average)**\n",
        "\n",
        "* **Dictionaries** are optimized for quick lookups, insertions, and deletions by key. The average time complexity is **O(1)**.\n",
        "* In contrast, to find an item in a **list**, you would have to **search through the entire list**, which takes **O(n)** time.\n",
        "\n",
        "#### Example:\n",
        "\n",
        "```python\n",
        "my_dict = {'name': 'Alice', 'age': 30}\n",
        "print(my_dict['name'])  # Fast: O(1)\n",
        "```\n",
        "\n",
        "With a list, you'd need to loop through the entire list to find an item:\n",
        "\n",
        "```python\n",
        "my_list = ['Alice', 'Bob', 'Charlie']\n",
        "print(my_list[my_list.index('Alice')])  # Slower: O(n)\n",
        "```\n",
        "\n",
        "---\n",
        "\n",
        "### 2. **Efficient Storage of Unordered Data**\n",
        "\n",
        "* **Dictionaries** store data as key-value pairs, which means you can **associate** meaningful data (like a person's name with their age) in a structured manner, without needing to worry about order.\n",
        "* **Lists** store data in **ordered sequences**, which can be inefficient if you need to pair values.\n",
        "\n",
        "#### Example:\n",
        "\n",
        "```python\n",
        "person = {'name': 'Alice', 'age': 25}  # More intuitive\n",
        "```\n",
        "\n",
        "In a **list**, you would need to use indices, which is less readable:\n",
        "\n",
        "```python\n",
        "person = ['Alice', 25]  # Less intuitive\n",
        "```\n",
        "\n",
        "---\n",
        "\n",
        "### 3. **Key-Based Access**\n",
        "\n",
        "* With **dictionaries**, you can directly access an element using a **key**, making it easier to **reference data** without knowing the index.\n",
        "\n",
        "#### Example:\n",
        "\n",
        "```python\n",
        "my_dict = {'name': 'Alice', 'age': 30}\n",
        "print(my_dict['age'])  # O(1) direct access by key\n",
        "```\n",
        "\n",
        "In a **list**, you would need to know the index, which is less flexible:\n",
        "\n",
        "```python\n",
        "my_list = ['Alice', 30]\n",
        "print(my_list[1])  # Access by index, not key\n",
        "```\n",
        "\n",
        "---\n",
        "\n",
        "### 4. **Dynamic and Flexible Data Storage**\n",
        "\n",
        "* **Dictionaries** allow you to store complex data with different types as **keys** and **values**, which makes them ideal for tasks like configuration settings, database records, and other key-value pair relationships.\n",
        "* Lists are generally more suited to storing ordered sequences of similar data types.\n",
        "\n",
        "####  Example:\n",
        "\n",
        "```python\n",
        "my_dict = {\n",
        "    'name': 'Alice',\n",
        "    'age': 30,\n",
        "    'address': {'city': 'New York', 'zip': '10001'}\n",
        "}\n",
        "```\n",
        "\n",
        "In a **list**, you would struggle to associate meaningful names with values without creating more complex structures.\n",
        "\n",
        "---\n",
        "\n",
        "###  5. **No Need for Sorting**\n",
        "\n",
        "* **Dictionaries** are unordered collections, so you don’t need to worry about the order of elements, making them more efficient when order isn’t important.\n",
        "* In contrast, if you're working with a **list** and need to maintain a specific order (e.g., sorting), you'll need to perform extra steps.\n",
        "\n",
        "---\n",
        "\n",
        "| **Feature**           | **Dictionaries**                         | **Lists**                        |\n",
        "| --------------------- | ---------------------------------------- | -------------------------------- |\n",
        "| **Lookup speed**      | ✅ O(1) average (by key)                  | ❌ O(n) average (by index/loop)   |\n",
        "| **Data organization** | ✅ Key-value pairs (unordered)            | ❌ Ordered, indexed by position   |\n",
        "| **Access**            | ✅ Direct access by key                   | ❌ Access by index                |\n",
        "| **Flexibility**       | ✅ Stores complex key-value relationships | ❌ Primarily stores ordered items |\n",
        "\n"
      ],
      "metadata": {
        "id": "hT1BOftGYSkC"
      }
    },
    {
      "cell_type": "markdown",
      "source": [
        "# Q12. Describe a scenario where using a tuple would be preferable over a list.\n",
        "Ans:\n",
        "A **tuple** is preferable over a list when you want to store **fixed, constant data** that should **not be modified** after creation. Since tuples are **immutable**, they help ensure **data integrity**, allow **safe usage as dictionary keys**, and generally offer **faster performance** than lists.\n",
        "\n",
        "---\n",
        "\n",
        "### **Example Scenario:**\n",
        "\n",
        "Suppose you're building a program that handles GPS coordinates for tracking locations. Each coordinate is a pair of latitude and longitude values. These should not change after being created.\n",
        "\n",
        "```python\n",
        "location = (27.1751, 78.0421)  # Tuple is ideal for fixed GPS coordinates\n",
        "```\n",
        "\n",
        "Using a tuple here:\n",
        "\n",
        "* Prevents accidental modification\n",
        "* Makes the data hashable (can be used as a key in a dictionary)\n",
        "* Ensures structural consistency\n",
        "\n",
        "---\n",
        "\n",
        "### Other Use Cases:\n",
        "\n",
        "* Storing fixed configuration values (like RGB colors, dates)\n",
        "* Returning multiple values from a function\n",
        "* Defining constant records (like days of the week)"
      ],
      "metadata": {
        "id": "BDdtO5R9XA10"
      }
    },
    {
      "cell_type": "markdown",
      "source": [
        "# Q13. How do sets handle duplicate values in Python ?\n",
        "Ans:\n",
        "**Sets** in Python automatically **eliminate duplicate values**. When you create or update a set, any repeated elements are **ignored**, and only **unique elements** are stored.\n",
        "\n",
        "---\n",
        "\n",
        "### Example:\n",
        "\n",
        "```python\n",
        "my_set = {1, 2, 2, 3, 4, 4, 4}\n",
        "print(my_set)\n",
        "# Output: {1, 2, 3, 4}\n",
        "```\n",
        "\n",
        "Even though `2` and `4` appear multiple times during creation, the final set contains each value **only once**.\n",
        "\n",
        "---\n",
        "\n",
        "### Why This Happens:\n",
        "\n",
        "* Sets are **unordered collections of unique elements**.\n",
        "* Under the hood, they use a **hash table** (like dictionaries), which **disallows duplicates**.\n",
        "* When adding an element, Python checks its hash:\n",
        "\n",
        "  * If it's already present, it **won't be added again**.\n",
        "\n",
        "---\n",
        "\n",
        "### Adding Duplicates Later:\n",
        "\n",
        "```python\n",
        "my_set.add(2)  # 2 already exists\n",
        "print(my_set)  # No change; output: {1, 2, 3, 4}\n",
        "```\n",
        "\n",
        "---\n",
        "\n",
        "### Summary:\n",
        "\n",
        "> Python sets **automatically remove duplicates** and ensure that all elements are **unique**, making them ideal for tasks like de-duplication, membership testing, and mathematical set operations.\n"
      ],
      "metadata": {
        "id": "SdxsPSYoXBJO"
      }
    },
    {
      "cell_type": "markdown",
      "source": [
        "# Q14. How does the “in” keyword work differently for lists and dictionaries?\n",
        "Ans:\n",
        "The `in` keyword is used to **check membership**, but it behaves differently depending on the data structure.\n",
        "\n",
        "---\n",
        "\n",
        "###  **In a List:**\n",
        "\n",
        "* `in` checks **if a value exists among the elements** of the list.\n",
        "* It performs a **linear search** — checks each item one by one.\n",
        "\n",
        "```python\n",
        "my_list = [10, 20, 30]\n",
        "print(20 in my_list)   # ✅ True\n",
        "print(50 in my_list)   # ❌ False\n",
        "```\n",
        "\n",
        " **Time Complexity:** O(n)\n",
        "\n",
        "---\n",
        "\n",
        "### **In a Dictionary:**\n",
        "\n",
        "* `in` checks **if a key exists** (not the value).\n",
        "* It uses a **hash table** internally for fast lookup.\n",
        "\n",
        "```python\n",
        "my_dict = {'name': 'Alice', 'age': 25}\n",
        "print('name' in my_dict)     # True (key check)\n",
        "print('Alice' in my_dict)    # False (value, not key)\n",
        "```\n",
        "\n",
        " **Time Complexity:** O(1) on average\n",
        "\n",
        "---\n",
        "\n",
        "###  Summary:\n",
        "\n",
        "| Data Structure | `in` Checks For   | Time Complexity |\n",
        "| -------------- | ----------------- | --------------- |\n",
        "| List           | Values (elements) | O(n)            |\n",
        "| Dictionary     | Keys only         | O(1) (average)  |\n",
        "\n"
      ],
      "metadata": {
        "id": "9d9PYG58XBTS"
      }
    },
    {
      "cell_type": "markdown",
      "source": [
        "# Q15. Can you modify the elements of a tuple? Explain why or why not.\n",
        "Ans:\n",
        "**No, you cannot modify the elements of a tuple** once it is created. Tuples in Python are **immutable**, which means their contents are **fixed and unchangeable**.\n",
        "\n",
        "\n",
        "### Why Tuples Are Immutable:\n",
        "\n",
        "* **Designed for data integrity**: Tuples protect data from accidental changes.\n",
        "* **Hashability**: Because they don’t change, they can be used as keys in dictionaries and elements in sets.\n",
        "* **Efficiency**: Immutable objects are generally more memory- and performance-efficient.\n",
        "\n",
        "---\n",
        "\n",
        "###  Example:\n",
        "\n",
        "```python\n",
        "my_tuple = (10, 20, 30)\n",
        "my_tuple[1] = 50  #  Raises TypeError\n",
        "```\n",
        "\n",
        "**Error:**\n",
        "\n",
        "```\n",
        "TypeError: 'tuple' object does not support item assignment\n",
        "```\n",
        "\n",
        "---\n",
        "\n",
        "###  Exception: Mutable Objects Inside Tuples\n",
        "\n",
        "Tuples themselves can't be changed, but if a tuple **contains a mutable object**, like a list, that inner object **can** be modified:\n",
        "\n",
        "```python\n",
        "my_tuple = (1, [2, 3], 4)\n",
        "my_tuple[1].append(5)  # ✅ Modifying list inside the tuple\n",
        "print(my_tuple)        # Output: (1, [2, 3, 5], 4)\n",
        "```"
      ],
      "metadata": {
        "id": "tEUM37lMXBgh"
      }
    },
    {
      "cell_type": "markdown",
      "source": [
        "# Q16. What is a nested dictionary, and give an example of its use case?\n",
        "Ans:\n",
        "A **nested dictionary** in Python is a **dictionary inside another dictionary**. It allows you to store **complex, structured data**, where each key maps to another dictionary as its value.\n",
        "\n",
        "---\n",
        "\n",
        "###  Example:\n",
        "\n",
        "```python\n",
        "students = {\n",
        "    \"101\": {\"name\": \"Alice\", \"age\": 20, \"marks\": 85},\n",
        "    \"102\": {\"name\": \"Bob\", \"age\": 22, \"marks\": 90}\n",
        "}\n",
        "```\n",
        "* Each student ID (`\"101\"`, `\"102\"`) maps to a dictionary containing details about that student.\n",
        "\n",
        "---\n",
        "\n",
        "###  Use Case:\n",
        "\n",
        "Nested dictionaries are useful when you want to **group related data hierarchically**, such as:\n",
        "\n",
        "* Storing user profiles in a database\n",
        "* Representing JSON-like structured data\n",
        "* Handling configuration settings\n",
        "* Organizing data in multi-level categories (e.g., country → state → city)\n",
        "\n",
        "---\n",
        "\n",
        "###  Accessing Nested Dictionary Elements:\n",
        "\n",
        "```python\n",
        "print(students[\"101\"][\"name\"])  # Output: Alice\n",
        "print(students[\"102\"][\"marks\"])  # Output: 90\n",
        "```\n"
      ],
      "metadata": {
        "id": "zI6Yxf0QXBtB"
      }
    },
    {
      "cell_type": "markdown",
      "source": [
        "# Q17. Describe the time complexity of accessing elements in a dictionary.\n",
        "Ans:\n",
        "\n",
        "###  **Average-Case Time Complexity: O(1)**\n",
        "\n",
        "* Dictionary uses a **hash table** under the hood.\n",
        "* When you access a value using a key, Python:\n",
        "\n",
        "  1. Computes the **hash** of the key.\n",
        "  2. Directly jumps to the location in memory using the hash.\n",
        "  3. Retrieves the value in **constant time**.\n",
        "\n",
        "####  Example:\n",
        "\n",
        "```python\n",
        "my_dict = {\"a\": 1, \"b\": 2, \"c\": 3}\n",
        "print(my_dict[\"b\"])  # Access is O(1)\n",
        "```\n",
        "\n",
        "---\n",
        "\n",
        "###  **Worst-Case Time Complexity: O(n)**\n",
        "\n",
        "* In rare cases (e.g., **hash collisions**), multiple keys hash to the same index.\n",
        "* Python handles this using **open addressing**, but in extreme cases, lookup could degrade to **linear time**.\n",
        "\n",
        "However, in practice, Python’s hash implementation keeps the average lookup time **very close to O(1)**.\n"
      ],
      "metadata": {
        "id": "ZxOZKeNSXB6Y"
      }
    },
    {
      "cell_type": "markdown",
      "source": [
        "# Q18. In what situations are lists preferred over dictionaries?\n",
        "Ans:\n",
        "\n",
        "###  **1. When Order and Position Matter**\n",
        "\n",
        "* Lists **preserve order** and support **index-based access**.\n",
        "* Useful when the **position of elements is meaningful**, like processing a queue or sequence.\n",
        "\n",
        "---\n",
        "\n",
        "###  **2. When You Don’t Need Key-Value Pairs**\n",
        "\n",
        "* If you’re just storing a **collection of values** (e.g. names, numbers), lists are simpler and more efficient.\n",
        "\n",
        "---\n",
        "\n",
        "###  **3. Iterating in Order**\n",
        "\n",
        "* Lists are ideal when you want to **loop over elements in the exact order** they were added.\n",
        "\n",
        "#### Example:\n",
        "\n",
        "```python\n",
        "for step in [\"open\", \"edit\", \"save\"]:\n",
        "    print(step)\n",
        "```\n",
        "\n",
        "---\n",
        "\n",
        "###  **4. Maintaining Duplicate Entries**\n",
        "\n",
        "* Unlike sets or dictionary keys, **lists allow duplicates**.\n",
        "\n",
        "#### Example:\n",
        "\n",
        "```python\n",
        "names = [\"Alice\", \"Bob\", \"Alice\"]\n",
        "```\n",
        "\n",
        "---\n",
        "\n",
        "###  **5. Lightweight and Simpler for Small Collections**\n",
        "\n",
        "\n"
      ],
      "metadata": {
        "id": "7qDxB2Z1XCHZ"
      }
    },
    {
      "cell_type": "markdown",
      "source": [
        "# Q19. Why are dictionaries considered unordered, and how does that affect data retrieval ?\n",
        "Ans:\n",
        "**Dictionaries are considered unordered** because **before Python 3.7**, they did **not preserve the insertion order** of keys. Although from **Python 3.7+**, insertion order is preserved **as an implementation detail**, dictionaries are still **primarily designed for fast key-based access**, **not sequential order**.\n",
        "\n",
        "---\n",
        "\n",
        "###  Explanation:\n",
        "\n",
        "* **Unordered** means that the **elements do not have a fixed index position** like in a list.\n",
        "* Dictionary items are **accessed by their keys**, not by index.\n",
        "* Even if order is preserved in modern versions, you should **not rely on it for ordering logic** unless you're using an `OrderedDict` (for older Python versions).\n",
        "\n",
        "---\n",
        "\n",
        "### Example:\n",
        "\n",
        "```python\n",
        "my_dict = {\"a\": 1, \"b\": 2, \"c\": 3}\n",
        "print(my_dict[\"b\"])  # ✅ Retrieves value by key, not by position\n",
        "```\n",
        "\n",
        "You **can't** do this:\n",
        "\n",
        "```python\n",
        "# Will raise TypeError\n",
        "print(my_dict[1])  # Dictionaries don’t support index-based access\n",
        "```\n",
        "\n",
        "| Feature                    | Dictionary                | List                     |\n",
        "| -------------------------- | ------------------------- | ------------------------ |\n",
        "| Access method              | By key                    | By index                 |\n",
        "| Supports order-based logic | ❌ Not reliable before 3.7 | ✅ Yes                    |\n",
        "| Duplicate entries          | ❌ Keys must be unique     | ✅ Duplicates allowed     |\n",
        "| Fast access                | ✅ O(1) average by key     | ❌ O(n) for value lookups |\n",
        "\n"
      ],
      "metadata": {
        "id": "-R6oVRdLXCVy"
      }
    },
    {
      "cell_type": "markdown",
      "source": [
        "# Q20. Explain the difference between a list and a dictionary in terms of data retrieval.\n",
        "Ans:\n",
        " Difference Between a List and a Dictionary in Terms of Data Retrieval\n",
        "\n",
        "| Feature                        | **List**                       | **Dictionary**                     |\n",
        "| ------------------------------ | ------------------------------ | ---------------------------------- |\n",
        "| **Access Method**              | By **index** (position-based)  | By **key** (name-based)            |\n",
        "| **Time Complexity**            | O(1) for index access          | O(1) for key access (average case) |\n",
        "| **Supports Sequential Access** | ✅ Yes                          | ⚠️ Not intended for sequence logic |\n",
        "| **Retrieval by Value**         | ❌ Slow (O(n), requires search) | ✅ Fast lookup by key               |\n",
        "| **Duplicate Entries**          | ✅ Allowed                      | ❌ Keys must be unique              |\n",
        "| **Usage Example**              | `my_list[0]`                   | `my_dict[\"name\"]`                  |\n",
        "\n",
        "\n"
      ],
      "metadata": {
        "id": "_8JvUw4qXzaN"
      }
    },
    {
      "cell_type": "code",
      "source": [
        "# String Operation\n",
        "# 1. Write a code to create a string with your name and print it\n",
        "name = \"vivek saroj\"\n",
        "print(name)\n",
        "\n",
        "# 2. Write a code to find the length of the string \"Hello World\"\n",
        "print(len(\"Hello World\"))\n",
        "\n",
        "# 3. Write a code to slice the first 3 characters from the string \"Python Programming\"\n",
        "print(\"Python Programming\"[:3])\n",
        "\n",
        "# 4. Write a code to convert the string \"hello\" to uppercase\n",
        "print(\"hello\".upper())\n",
        "\n",
        "# 5. Write a code to replace the word \"apple\" with \"orange\" in the string \"I like apple\"\n",
        "print(\"I like apple\".replace(\"apple\", \"orange\"))\n"
      ],
      "metadata": {
        "colab": {
          "base_uri": "https://localhost:8080/"
        },
        "id": "ewpnQOG6XyWz",
        "outputId": "f0443708-dfaa-478d-a450-7da65c007374"
      },
      "execution_count": 1,
      "outputs": [
        {
          "output_type": "stream",
          "name": "stdout",
          "text": [
            "vivek saroj\n",
            "11\n",
            "Pyt\n",
            "HELLO\n",
            "I like orange\n"
          ]
        }
      ]
    },
    {
      "cell_type": "code",
      "source": [
        "# List operation\n",
        "# 6. Write a code to create a list with numbers 1 to 5 and print it.\n",
        "numbers = [1, 2, 3, 4, 5]\n",
        "print(numbers)\n",
        "\n",
        "# 7. write a code to append 10 to the list [1, 2, 3, 4]\n",
        "lst = [1, 2, 3, 4]\n",
        "lst.append(10)\n",
        "print(lst)\n",
        "\n",
        "# 8. write a code to remove the number 3 from the list [1, 2, 3, 4, 5]\n",
        "lst2 = [1, 2, 3, 4, 5]\n",
        "lst2.remove(3)\n",
        "print(lst2)\n",
        "\n",
        "# 9. write a code to access the second element in the list ['a', 'b', 'c', 'd']\n",
        "chars = ['a', 'b', 'c', 'd']\n",
        "print(chars[1])\n",
        "\n",
        "# 10. write a code to reverse the list [10, 20, 30, 40, 50]\n",
        "nums = [10, 20, 30, 40, 50]\n",
        "nums.reverse()\n",
        "print(nums)\n"
      ],
      "metadata": {
        "colab": {
          "base_uri": "https://localhost:8080/"
        },
        "id": "u2VVf912kONq",
        "outputId": "6637315b-11cd-42c3-a055-0d8dd25fa2f1"
      },
      "execution_count": 2,
      "outputs": [
        {
          "output_type": "stream",
          "name": "stdout",
          "text": [
            "[1, 2, 3, 4, 5]\n",
            "[1, 2, 3, 4, 10]\n",
            "[1, 2, 4, 5]\n",
            "b\n",
            "[50, 40, 30, 20, 10]\n"
          ]
        }
      ]
    },
    {
      "cell_type": "code",
      "source": [
        "#  Tuple operation\n",
        "# 11. write a code to create a tuple with elements 100, 200, 300 and print it\n",
        "my_tuple = (100, 200, 300)\n",
        "print(my_tuple)\n",
        "\n",
        "# 12. Write a code to access the second-to-last element of the tuple ('red', 'green', 'blue', 'yellow')\n",
        "colors = ('red', 'green', 'blue', 'yellow')\n",
        "print(colors[-2])\n",
        "\n",
        "# 13. write a code to find the minimum number in the tuple (10, 20, 5, 15)\n",
        "nums = (10, 20, 5, 15)\n",
        "print(min(nums))\n",
        "\n",
        "# 14. write a code to find the index of the element \"cat\" in the tuple ('dog', 'cat', 'rabbit')\n",
        "animals = ('dog', 'cat', 'rabbit')\n",
        "print(animals.index(\"cat\"))\n",
        "\n",
        "# 15. write a code to create a tuple with three fruits and check if \"kiwi\" is in it\n",
        "fruits = (\"apple\", \"banana\", \"mango\")\n",
        "print(\"kiwi\" in fruits)\n"
      ],
      "metadata": {
        "colab": {
          "base_uri": "https://localhost:8080/"
        },
        "id": "uKnIRZetknI9",
        "outputId": "cf53e862-a86a-4e7a-d441-26a984e92211"
      },
      "execution_count": 3,
      "outputs": [
        {
          "output_type": "stream",
          "name": "stdout",
          "text": [
            "(100, 200, 300)\n",
            "blue\n",
            "5\n",
            "1\n",
            "False\n"
          ]
        }
      ]
    },
    {
      "cell_type": "code",
      "source": [
        "# set operation\n",
        "# 16. write a code toreate a set with elements 'a', 'b', 'c' and print it\n",
        "my_set = {'a', 'b', 'c'}\n",
        "print(my_set)\n",
        "\n",
        "# 17. write a code to clear all elements from the set {1, 2, 3, 4, 5}\n",
        "s = {1, 2, 3, 4, 5}\n",
        "s.clear()\n",
        "print(s)\n",
        "\n",
        "# 18. write a code to remove the element 4 from the set {1, 2, 3, 4}\n",
        "s2 = {1, 2, 3, 4}\n",
        "s2.remove(4)\n",
        "print(s2)\n",
        "\n",
        "# 19. write a code to find the union of two sets {1, 2, 3} and {3, 4, 5}\n",
        "a = {1, 2, 3}\n",
        "b = {3, 4, 5}\n",
        "print(a.union(b))\n",
        "\n",
        "# 20. write a code to find the intersection of two sets {1, 2, 3} and {2, 3, 4}\n",
        "x = {1, 2, 3}\n",
        "y = {2, 3, 4}\n",
        "print(x.intersection(y))\n"
      ],
      "metadata": {
        "colab": {
          "base_uri": "https://localhost:8080/"
        },
        "id": "F5jhPm5alodt",
        "outputId": "156c6157-69b6-4e47-c62a-63bc8de5ee6b"
      },
      "execution_count": 4,
      "outputs": [
        {
          "output_type": "stream",
          "name": "stdout",
          "text": [
            "{'b', 'a', 'c'}\n",
            "set()\n",
            "{1, 2, 3}\n",
            "{1, 2, 3, 4, 5}\n",
            "{2, 3}\n"
          ]
        }
      ]
    },
    {
      "cell_type": "code",
      "source": [
        "# 21. write a code to create a dictionary with keys \"name\", \"age\", and \"city\", and print it\n",
        "person = {\"name\": \"vivek\", \"age\": 24, \"city\": \"Thane\"}\n",
        "print(person)\n"
      ],
      "metadata": {
        "colab": {
          "base_uri": "https://localhost:8080/"
        },
        "id": "yPKU-225mT5f",
        "outputId": "6ff4b84b-b9bd-4b06-e152-03dad7eea1a0"
      },
      "execution_count": 6,
      "outputs": [
        {
          "output_type": "stream",
          "name": "stdout",
          "text": [
            "{'name': 'vivek', 'age': 24, 'city': 'Thane'}\n"
          ]
        }
      ]
    },
    {
      "cell_type": "code",
      "source": [
        "# 22. write a cdoe to add key-value pair \"country\": \"USA\" to dictionary\n",
        "person2 = {'name': 'John', 'age': 25}\n",
        "person2[\"country\"] = \"USA\"\n",
        "print(person2)\n"
      ],
      "metadata": {
        "colab": {
          "base_uri": "https://localhost:8080/"
        },
        "id": "igeQRshcnIPB",
        "outputId": "acc8e408-56c0-4205-c167-730763540815"
      },
      "execution_count": 7,
      "outputs": [
        {
          "output_type": "stream",
          "name": "stdout",
          "text": [
            "{'name': 'John', 'age': 25, 'country': 'USA'}\n"
          ]
        }
      ]
    },
    {
      "cell_type": "code",
      "source": [
        "# 23. write a cdoe to access the value associated with the key \"name\"\n",
        "person3 = {'name': 'Alice', 'age': 30}\n",
        "print(person3[\"name\"])\n"
      ],
      "metadata": {
        "colab": {
          "base_uri": "https://localhost:8080/"
        },
        "id": "BCqU1fxBnSlI",
        "outputId": "99dceef3-87ff-455f-cab9-52f9e62e3aa7"
      },
      "execution_count": 8,
      "outputs": [
        {
          "output_type": "stream",
          "name": "stdout",
          "text": [
            "Alice\n"
          ]
        }
      ]
    },
    {
      "cell_type": "code",
      "source": [
        "# 24. write a cdoe to remove the key \"age\" from the dictionary\n",
        "person4 = {'name': 'Bob', 'age': 22, 'city': 'New York'}\n",
        "person4.pop(\"age\")\n",
        "print(person4)\n"
      ],
      "metadata": {
        "colab": {
          "base_uri": "https://localhost:8080/"
        },
        "id": "AG4VtPuVnZkO",
        "outputId": "29c7fa7c-afa9-40a5-cf2f-815e4655598f"
      },
      "execution_count": 9,
      "outputs": [
        {
          "output_type": "stream",
          "name": "stdout",
          "text": [
            "{'name': 'Bob', 'city': 'New York'}\n"
          ]
        }
      ]
    },
    {
      "cell_type": "code",
      "source": [
        "# 25. write a code to check if the key \"city\" exists in the dictionary\n",
        "person5 = {'name': 'Alice', 'city': 'Paris'}\n",
        "print(\"city\" in person5)  # Output: True\n"
      ],
      "metadata": {
        "colab": {
          "base_uri": "https://localhost:8080/"
        },
        "id": "iGrzaDqinezB",
        "outputId": "60d4a11e-b978-49c9-ecaa-59d821e6699d"
      },
      "execution_count": 10,
      "outputs": [
        {
          "output_type": "stream",
          "name": "stdout",
          "text": [
            "True\n"
          ]
        }
      ]
    },
    {
      "cell_type": "code",
      "source": [
        "# 26. write a code to create and print a list, a tuple, and a dictionary\n",
        "my_list = [1, 2, 3]\n",
        "my_tuple = (4, 5, 6)\n",
        "my_dict = {\"a\": 10, \"b\": 20}\n",
        "print(my_list)\n",
        "print(my_tuple)\n",
        "print(my_dict)\n"
      ],
      "metadata": {
        "colab": {
          "base_uri": "https://localhost:8080/"
        },
        "id": "e7t2v1bGoF9i",
        "outputId": "9e20877d-a038-4a8a-a453-b84971028781"
      },
      "execution_count": 11,
      "outputs": [
        {
          "output_type": "stream",
          "name": "stdout",
          "text": [
            "[1, 2, 3]\n",
            "(4, 5, 6)\n",
            "{'a': 10, 'b': 20}\n"
          ]
        }
      ]
    },
    {
      "cell_type": "code",
      "source": [
        "# 27. write a code to create a list of 5 random numbers between 1 and 100, sort and print\n",
        "import random\n",
        "rand_list = random.sample(range(1, 101), 5)\n",
        "rand_list.sort()\n",
        "print(rand_list)\n"
      ],
      "metadata": {
        "colab": {
          "base_uri": "https://localhost:8080/"
        },
        "id": "yMPBhUKjoOV3",
        "outputId": "36e71071-eb0f-453a-9cad-b86c61fc9289"
      },
      "execution_count": 12,
      "outputs": [
        {
          "output_type": "stream",
          "name": "stdout",
          "text": [
            "[54, 65, 72, 84, 95]\n"
          ]
        }
      ]
    },
    {
      "cell_type": "code",
      "source": [
        "# 28. write a code to create list with strings, print element at third index\n",
        "words = [\"apple\", \"banana\", \"cherry\", \"date\", \"elderberry\"]\n",
        "print(words[3])\n"
      ],
      "metadata": {
        "colab": {
          "base_uri": "https://localhost:8080/"
        },
        "id": "vFhtOpYQob-T",
        "outputId": "e4f421e3-55c5-4a5f-ee05-b5455b0bd44c"
      },
      "execution_count": 13,
      "outputs": [
        {
          "output_type": "stream",
          "name": "stdout",
          "text": [
            "date\n"
          ]
        }
      ]
    },
    {
      "cell_type": "code",
      "source": [
        "# 29. write a code to combine two dictionaries and print result\n",
        "dict1 = {\"a\": 1, \"b\": 2}\n",
        "dict2 = {\"c\": 3, \"d\": 4}\n",
        "combined = {**dict1, **dict2}\n",
        "print(combined)\n"
      ],
      "metadata": {
        "colab": {
          "base_uri": "https://localhost:8080/"
        },
        "id": "YtCuDSZzoi9v",
        "outputId": "ffff2314-a7e4-4097-8f93-34552f156339"
      },
      "execution_count": 14,
      "outputs": [
        {
          "output_type": "stream",
          "name": "stdout",
          "text": [
            "{'a': 1, 'b': 2, 'c': 3, 'd': 4}\n"
          ]
        }
      ]
    },
    {
      "cell_type": "code",
      "source": [
        "# 30. write a code to convert a list of strings into a set\n",
        "str_list = [\"apple\", \"banana\", \"cherry\", \"apple\"]\n",
        "str_set = set(str_list)\n",
        "print(str_set)  # Duplicates removed\n"
      ],
      "metadata": {
        "colab": {
          "base_uri": "https://localhost:8080/"
        },
        "id": "jjMGctEoorEm",
        "outputId": "a7c72643-04d8-46f8-e7f4-99dbf792bbeb"
      },
      "execution_count": 15,
      "outputs": [
        {
          "output_type": "stream",
          "name": "stdout",
          "text": [
            "{'cherry', 'apple', 'banana'}\n"
          ]
        }
      ]
    },
    {
      "cell_type": "code",
      "source": [],
      "metadata": {
        "id": "9L9jqfGyo61z"
      },
      "execution_count": null,
      "outputs": []
    }
  ]
}